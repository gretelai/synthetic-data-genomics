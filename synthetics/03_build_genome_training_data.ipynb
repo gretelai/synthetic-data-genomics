{
 "cells": [
  {
   "cell_type": "markdown",
   "metadata": {},
   "source": [
    "# Build the mouse genome training dataset\n",
    "This notebook creates a mouse genome training dataset by batching the genome data by position on the chromosome. We then create a training set for the phenome abBMD using an example batch of genome data (SNPs)."
   ]
  },
  {
   "cell_type": "code",
   "execution_count": null,
   "metadata": {},
   "outputs": [],
   "source": [
    "import os\n",
    "import pathlib\n",
    "import pandas as pd\n",
    "\n",
    "base_path = pathlib.Path(os.getcwd().replace(\"/synthetics\", \"\"))\n",
    "data_path = base_path / 'mice_data_set' / 'data' \n",
    "experiment_path = base_path / 'mice_data_set' / 'out' "
   ]
  },
  {
   "cell_type": "code",
   "execution_count": null,
   "metadata": {},
   "outputs": [],
   "source": [
    "# Read in the geno data and remove the discards (slow)\n",
    "\n",
    "import pandas as pd\n",
    "\n",
    "\n",
    "genofile = data_path / \"geno.txt\"\n",
    "geno = pd.read_csv(genofile, sep=' ')\n",
    "geno = geno[geno[\"discard\"] == \"no\"]\n",
    "geno.head()"
   ]
  },
  {
   "cell_type": "code",
   "execution_count": null,
   "metadata": {},
   "outputs": [],
   "source": [
    "# Read in the muscle and bone phenome data, which contains the abBMD phenome and its covariate\n",
    "\n",
    "phenofile = data_path / \"pheno_batch0_withID.csv\"\n",
    "pheno = pd.read_csv(phenofile)\n",
    "pheno.head()"
   ]
  },
  {
   "cell_type": "code",
   "execution_count": null,
   "metadata": {},
   "outputs": [],
   "source": [
    "# Grab the original GWAS linear model results for abBMD and the chromosome position information\n",
    "\n",
    "gwasfile = experiment_path / \"lm_abBMD_1_79646.csv\"\n",
    "gwas_scores = pd.read_csv(gwasfile)\n",
    "gwas_scores.head()"
   ]
  },
  {
   "cell_type": "code",
   "execution_count": null,
   "metadata": {},
   "outputs": [],
   "source": [
    "# Sort by position on the chromosome\n",
    "\n",
    "gwas_scores_sorted = gwas_scores.sort_values(by=['chr','pos']).reset_index()\n",
    "gwas_scores_sorted.head()"
   ]
  },
  {
   "cell_type": "code",
   "execution_count": null,
   "metadata": {},
   "outputs": [],
   "source": [
    "# Group the SNPs into batches of 17 (saving room to use abBMD and SW16 as seeds)\n",
    "\n",
    "batches = {}\n",
    "batch_num = -1\n",
    "max_snps_per_batch = 17\n",
    "snp_cnt = 0\n",
    "last_chromo = -1\n",
    "batch_psum = {}\n",
    "\n",
    "for i in range(len(gwas_scores_sorted)):\n",
    "    pscore = gwas_scores_sorted.loc[i]['p']\n",
    "    chromo = gwas_scores_sorted.loc[i]['chr']\n",
    "    pos = gwas_scores_sorted.loc[i]['pos'] \n",
    "    snp = gwas_scores_sorted.loc[i]['snp'] \n",
    "    if ((snp_cnt == max_snps_per_batch) or (chromo != last_chromo)):\n",
    "        batch_num += 1\n",
    "        batches[batch_num] = {}\n",
    "        batches[batch_num]['chr_pos'] = []\n",
    "        batches[batch_num]['pvalues'] = []\n",
    "        batches[batch_num]['snps'] = []\n",
    "        batch_psum[batch_num] = 0\n",
    "        snp_cnt = 0\n",
    "    batches[batch_num]['chr_pos'].append(str(chromo) + \"_\" + str(pos))\n",
    "    batches[batch_num]['pvalues'].append(pscore)\n",
    "    batches[batch_num]['snps'].append(snp)\n",
    "    batch_psum[batch_num] += pscore\n",
    "    last_chromo = chromo\n",
    "    snp_cnt += 1\n",
    "     "
   ]
  },
  {
   "cell_type": "code",
   "execution_count": null,
   "metadata": {},
   "outputs": [],
   "source": [
    "# Which batch as the strongest associations with abBMD?\n",
    "min(batch_psum.items(), key=lambda k: k[1])"
   ]
  },
  {
   "cell_type": "code",
   "execution_count": null,
   "metadata": {},
   "outputs": [],
   "source": [
    "# Genome batch 2996 does\n",
    "batches[2996]"
   ]
  },
  {
   "cell_type": "code",
   "execution_count": null,
   "metadata": {},
   "outputs": [],
   "source": [
    "# Build a training set for this batch with strong associations\n",
    "\n",
    "grp1_columns = list(batches[2996][\"snps\"])\n",
    "grp1_columns.append(\"id\")\n",
    "geno_grp1 = geno.filter(grp1_columns)\n",
    "\n",
    "# Cast float values to integers\n",
    "floats = geno_grp1.select_dtypes(include=['float64']) \n",
    "for col in floats.columns.values:\n",
    "    geno_grp1[col] = geno_grp1[col].astype('int64')\n",
    "\n",
    "geno_grp1.head()"
   ]
  },
  {
   "cell_type": "code",
   "execution_count": null,
   "metadata": {},
   "outputs": [],
   "source": [
    "pheno.head()"
   ]
  },
  {
   "cell_type": "code",
   "execution_count": null,
   "metadata": {},
   "outputs": [],
   "source": [
    "geno_grp1.columns"
   ]
  },
  {
   "cell_type": "code",
   "execution_count": null,
   "metadata": {},
   "outputs": [],
   "source": [
    "# Add in the phenome information to the genome training set\n",
    "\n",
    "genome_phenome = geno_grp1.join(pheno.set_index('id'), on = \"id\", how = \"inner\")\n",
    "\n",
    "columns_use = list(batches[2996][\"snps\"])\n",
    "columns_use.append(\"abBMD\")\n",
    "columns_use.append(\"SW16\")\n",
    "\n",
    "genome_train = genome_phenome.filter(columns_use)\n",
    "\n",
    "genome_train"
   ]
  },
  {
   "cell_type": "code",
   "execution_count": null,
   "metadata": {},
   "outputs": [],
   "source": [
    "# Save the training file\n",
    "\n",
    "genofile = data_path / \"geno_abBMD_train.csv\"\n",
    "genome_train.to_csv(genofile, index=False, header=True)"
   ]
  },
  {
   "cell_type": "code",
   "execution_count": null,
   "metadata": {},
   "outputs": [],
   "source": [
    "# Now create of version of map.txt with just the SNPs in the training set of this first batch\n",
    "\n",
    "mapfile = data_path / \"map.txt\"\n",
    "mapdata = pd.read_csv(mapfile, sep=' ')\n",
    "mapdata_use = mapdata[mapdata[\"id\"].isin(batches[2996][\"snps\"])]\n",
    "mapfile_new = data_path / \"map_abBMD.txt\"\n",
    "mapdata_use.to_csv(mapfile_new, sep=' ', header=True, index=False)"
   ]
  },
  {
   "cell_type": "code",
   "execution_count": null,
   "metadata": {},
   "outputs": [],
   "source": []
  }
 ],
 "metadata": {
  "kernelspec": {
   "display_name": "Python 3",
   "language": "python",
   "name": "python3"
  },
  "language_info": {
   "codemirror_mode": {
    "name": "ipython",
    "version": 3
   },
   "file_extension": ".py",
   "mimetype": "text/x-python",
   "name": "python",
   "nbconvert_exporter": "python",
   "pygments_lexer": "ipython3",
   "version": "3.7.2"
  }
 },
 "nbformat": 4,
 "nbformat_minor": 4
}
