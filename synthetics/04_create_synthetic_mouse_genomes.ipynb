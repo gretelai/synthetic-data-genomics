{
 "cells": [
  {
   "cell_type": "markdown",
   "metadata": {
    "id": "UTRxpSlaczHY"
   },
   "source": [
    "# Create synthetic mouse genome data\n",
    "\n",
    "Create a synthetic version of the mouse genomes from the original experiment. To run this notebook, you will need an API key from the Gretel console,  at https://console.gretel.cloud.\n"
   ]
  },
  {
   "cell_type": "code",
   "execution_count": null,
   "metadata": {
    "id": "VEM6kjRsczHd"
   },
   "outputs": [],
   "source": [
    "%%capture\n",
    "!pip install -U gretel-client"
   ]
  },
  {
   "cell_type": "code",
   "execution_count": null,
   "metadata": {
    "id": "ZQ-TmAdwczHd"
   },
   "outputs": [],
   "source": [
    "# Specify your Gretel API key\n",
    "\n",
    "from getpass import getpass\n",
    "import pandas as pd\n",
    "from gretel_client import configure_session, ClientConfig\n",
    "\n",
    "pd.set_option('max_colwidth', None)\n",
    "\n",
    "configure_session(ClientConfig(api_key=getpass(prompt=\"Enter Gretel API key\"), \n",
    "                               endpoint=\"https://api.gretel.cloud\"))\n",
    "\n",
    "                            "
   ]
  },
  {
   "cell_type": "code",
   "execution_count": null,
   "metadata": {
    "id": "fmHDICI1oPS5"
   },
   "outputs": [],
   "source": [
    "# Create a project\n",
    "\n",
    "from gretel_client import create_project\n",
    "\n",
    "project = create_project(display_name=\"synthetic-mouse-genomes\")"
   ]
  },
  {
   "cell_type": "markdown",
   "metadata": {
    "id": "s9LTh7GO6VIu"
   },
   "source": [
    "## Load and preview the training dataset\n",
    "Specify a data source to train the model on. This can be a local file, web location, or HDFS file.\n"
   ]
  },
  {
   "cell_type": "code",
   "execution_count": null,
   "metadata": {},
   "outputs": [],
   "source": [
    " data_path / \"geno_abBMD_train.csv\""
   ]
  },
  {
   "cell_type": "code",
   "execution_count": null,
   "metadata": {
    "id": "YMg9nX6SczHe"
   },
   "outputs": [],
   "source": [
    "import logging\n",
    "import os\n",
    "import pathlib\n",
    "\n",
    "\n",
    "training_min_rows = 25000\n",
    "tmp_path = '/tmp/tmp_geno_train.csv'\n",
    "\n",
    "base_path = pathlib.Path(os.getcwd().replace(\"/synthetics\", \"\"))\n",
    "data_path = base_path / 'mice_data_set' / 'data'\n",
    "\n",
    "dataset_path = data_path / 'geno_abBMD_train.csv'\n",
    "seeds_path = data_path / 'geno_seeds.csv'\n",
    "\n",
    "df = pd.read_csv(dataset_path)\n",
    "dataset_rows = len(df)\n",
    "df = pd.concat([df] * (training_min_rows // len(df) + 1))\n",
    "df.to_csv(tmp_path, index=False)\n",
    "\n",
    "logging.info(f\"Original training dataset length: {dataset_rows} rows.\")\n",
    "logging.warning(f\"Repeated {dataset_rows} row training dataset \"\n",
    "                f\"to {len(df)} rows to help RNN learn structure.\")\n",
    "\n",
    "df"
   ]
  },
  {
   "cell_type": "markdown",
   "metadata": {},
   "source": [
    "## Configure model hyper parameters\n",
    "Load the default configuration template. This template will work well for most datasets. View other templates at https://github.com/gretelai/gretel-blueprints/tree/main/config_templates/gretel/synthetics"
   ]
  },
  {
   "cell_type": "code",
   "execution_count": null,
   "metadata": {
    "id": "uIu3hkzoCzGz"
   },
   "outputs": [],
   "source": [
    "import json\n",
    "from smart_open import open\n",
    "import yaml\n",
    "\n",
    "with open(\"https://raw.githubusercontent.com/gretelai/gretel-blueprints/main/config_templates/gretel/synthetics/default.yml\", 'r') as stream:\n",
    "    config = yaml.safe_load(stream)\n",
    "    \n",
    "fields=['abBMD', 'SW16']\n",
    "\n",
    "task = {\n",
    "    'type': 'seed',\n",
    "    'attrs': {\n",
    "        'fields': fields\n",
    "    }\n",
    "}\n",
    "\n",
    "# Optimize parameters for complex dataset\n",
    "config['models'][0]['synthetics']['task'] = task\n",
    "config['models'][0]['synthetics']['params']['epochs'] = 150\n",
    "config['models'][0]['synthetics']['params']['vocab_size'] = 38\n",
    "config['models'][0]['synthetics']['params']['rnn_units'] = 768\n",
    "config['models'][0]['synthetics']['params']['reset_states'] = False\n",
    "config['models'][0]['synthetics']['params']['learning_rate'] = 0.0016\n",
    "config['models'][0]['synthetics']['generate']['num_records'] = dataset_rows\n",
    "config['models'][0]['synthetics']['privacy_filters']['similarity'] = None\n",
    "config['models'][0]['synthetics']['params']['dropout_rate'] = 0.5645\n",
    "config['models'][0]['synthetics']['params']['gen_temp'] = 0.9173\n",
    "\n",
    "\n",
    "print(json.dumps(config, indent=2))"
   ]
  },
  {
   "cell_type": "markdown",
   "metadata": {
    "id": "WxnH8th-65Dh"
   },
   "source": [
    "## Train the synthetic model\n",
    "In this step, we will task the worker running in the Gretel cloud, or locally, to train a synthetic model on the source dataset."
   ]
  },
  {
   "cell_type": "code",
   "execution_count": null,
   "metadata": {
    "id": "O4-E_F0qczHe"
   },
   "outputs": [],
   "source": [
    "from gretel_client.helpers import poll\n",
    "\n",
    "\n",
    "model = project.create_model_obj(model_config=config)\n",
    "model.data_source = tmp_path\n",
    "model.submit(upload_data_source=True)\n",
    "\n",
    "poll(model)"
   ]
  },
  {
   "cell_type": "markdown",
   "metadata": {
    "id": "69XYfU9k7fq4"
   },
   "source": [
    "# View the synthetic data quality report"
   ]
  },
  {
   "cell_type": "code",
   "execution_count": null,
   "metadata": {
    "id": "zX8qsizqczHg",
    "jupyter": {
     "outputs_hidden": true
    },
    "tags": []
   },
   "outputs": [],
   "source": [
    "# Generate report that shows the statistical performance between the training and synthetic data\n",
    "\n",
    "from smart_open import open\n",
    "from IPython.core.display import display, HTML\n",
    "\n",
    "\n",
    "# Change batch_num to any value between 0 and 6 to view performance report for other batches\n",
    "display(HTML(data=open(model.get_artifact_link(\"report\")).read(), metadata=dict(isolated=True)))"
   ]
  },
  {
   "cell_type": "markdown",
   "metadata": {},
   "source": [
    "## Generate synthetic genome data using seed values from the synthetic phenome data\n",
    "This ensures that the new synthetic genome data aligns one to one with the synthetic phenome data"
   ]
  },
  {
   "cell_type": "code",
   "execution_count": null,
   "metadata": {},
   "outputs": [],
   "source": [
    "seedfile = str(data_path / 'phenome_abBMD_seeds.csv')\n",
    "seed_df = pd.read_csv(seedfile)\n",
    "\n",
    "rh = model.create_record_handler_obj(data_source=seedfile, params={\"num_records\": len(seed_df)})\n",
    "rh.submit_cloud()\n",
    "\n",
    "poll(rh)\n",
    "\n",
    "synthetic_genomes = pd.read_csv(rh.get_artifact_link(\"data\"), compression='gzip')\n",
    "synthetic_genomes"
   ]
  },
  {
   "cell_type": "code",
   "execution_count": null,
   "metadata": {},
   "outputs": [],
   "source": [
    "# Drop the phenome information from the genome synth data and add back in the fields \"id\" and \"discard\"\n",
    "\n",
    "id_col = []\n",
    "discard_col = []\n",
    "for i in range(len(synthetic_genomes.index)):\n",
    "    id_col.append(i)\n",
    "    discard_col.append(\"no\")\n",
    "\n",
    "synthetic_genomes = synthetic_genomes.drop(['abBMD', 'SW16'], axis=1)\n",
    "columns = ['id', 'discard']\n",
    "columns = columns + list(synthetic_genomes.columns)   \n",
    "synthetic_genomes[\"id\"] = id_col\n",
    "synthetic_genomes[\"discard\"] = discard_col\n",
    "synthetic_genomes = synthetic_genomes.filter(columns)"
   ]
  },
  {
   "cell_type": "code",
   "execution_count": null,
   "metadata": {},
   "outputs": [],
   "source": [
    "synthetic_genomes"
   ]
  },
  {
   "cell_type": "markdown",
   "metadata": {},
   "source": [
    "## Save the synthetically generated genomes"
   ]
  },
  {
   "cell_type": "code",
   "execution_count": null,
   "metadata": {},
   "outputs": [],
   "source": [
    "synthetic_genomes.to_csv(data_path / 'synthetic_genomes.txt', index=False, sep=' ')"
   ]
  },
  {
   "cell_type": "code",
   "execution_count": null,
   "metadata": {},
   "outputs": [],
   "source": []
  }
 ],
 "metadata": {
  "colab": {
   "collapsed_sections": [],
   "name": "Create synthetic data from a DataFrame or CSV",
   "provenance": [],
   "toc_visible": true
  },
  "kernelspec": {
   "display_name": "Python 3",
   "language": "python",
   "name": "python3"
  },
  "language_info": {
   "codemirror_mode": {
    "name": "ipython",
    "version": 3
   },
   "file_extension": ".py",
   "mimetype": "text/x-python",
   "name": "python",
   "nbconvert_exporter": "python",
   "pygments_lexer": "ipython3",
   "version": "3.7.2"
  }
 },
 "nbformat": 4,
 "nbformat_minor": 1
}
