{
 "cells": [
  {
   "cell_type": "markdown",
   "metadata": {},
   "source": [
    "## This notebook will batch the geno data by position on the chromosome and then pick out the batch with the strongest associations for abBMD"
   ]
  },
  {
   "cell_type": "code",
   "execution_count": 1,
   "metadata": {},
   "outputs": [
    {
     "name": "stderr",
     "output_type": "stream",
     "text": [
      "/Users/amysteier/.pyenv/versions/3.7.5/lib/python3.7/site-packages/pandas/compat/__init__.py:120: UserWarning: Could not import the lzma module. Your installed Python is incomplete. Attempting to use lzma compression will result in a RuntimeError.\n",
      "  warnings.warn(msg)\n"
     ]
    },
    {
     "data": {
      "text/html": [
       "<div>\n",
       "<style scoped>\n",
       "    .dataframe tbody tr th:only-of-type {\n",
       "        vertical-align: middle;\n",
       "    }\n",
       "\n",
       "    .dataframe tbody tr th {\n",
       "        vertical-align: top;\n",
       "    }\n",
       "\n",
       "    .dataframe thead th {\n",
       "        text-align: right;\n",
       "    }\n",
       "</style>\n",
       "<table border=\"1\" class=\"dataframe\">\n",
       "  <thead>\n",
       "    <tr style=\"text-align: right;\">\n",
       "      <th></th>\n",
       "      <th>Unnamed: 0</th>\n",
       "      <th>snp</th>\n",
       "      <th>chr</th>\n",
       "      <th>pos</th>\n",
       "      <th>p</th>\n",
       "    </tr>\n",
       "  </thead>\n",
       "  <tbody>\n",
       "    <tr>\n",
       "      <th>0</th>\n",
       "      <td>1</td>\n",
       "      <td>rs29477109</td>\n",
       "      <td>11</td>\n",
       "      <td>95292217</td>\n",
       "      <td>5.052317e-14</td>\n",
       "    </tr>\n",
       "    <tr>\n",
       "      <th>1</th>\n",
       "      <td>2</td>\n",
       "      <td>rs27071351</td>\n",
       "      <td>11</td>\n",
       "      <td>96114911</td>\n",
       "      <td>7.074181e-14</td>\n",
       "    </tr>\n",
       "    <tr>\n",
       "      <th>2</th>\n",
       "      <td>3</td>\n",
       "      <td>rs27024162</td>\n",
       "      <td>11</td>\n",
       "      <td>96918116</td>\n",
       "      <td>7.170582e-14</td>\n",
       "    </tr>\n",
       "    <tr>\n",
       "      <th>3</th>\n",
       "      <td>4</td>\n",
       "      <td>rs49423067</td>\n",
       "      <td>11</td>\n",
       "      <td>96918212</td>\n",
       "      <td>7.198661e-14</td>\n",
       "    </tr>\n",
       "    <tr>\n",
       "      <th>4</th>\n",
       "      <td>5</td>\n",
       "      <td>rs29470802</td>\n",
       "      <td>11</td>\n",
       "      <td>95263588</td>\n",
       "      <td>8.049849e-14</td>\n",
       "    </tr>\n",
       "  </tbody>\n",
       "</table>\n",
       "</div>"
      ],
      "text/plain": [
       "   Unnamed: 0         snp  chr       pos             p\n",
       "0           1  rs29477109   11  95292217  5.052317e-14\n",
       "1           2  rs27071351   11  96114911  7.074181e-14\n",
       "2           3  rs27024162   11  96918116  7.170582e-14\n",
       "3           4  rs49423067   11  96918212  7.198661e-14\n",
       "4           5  rs29470802   11  95263588  8.049849e-14"
      ]
     },
     "execution_count": 1,
     "metadata": {},
     "output_type": "execute_result"
    }
   ],
   "source": [
    "# Grab the GWAS linear model results when running the map code on abBMD using all the SNPs\n",
    "\n",
    "import pandas as pd\n",
    "gwas_scores = pd.read_csv(\"/Users/amysteier/Documents/illumina/mice_data_set/out_save/lm_abBMD_1_79646.csv\")\n",
    "gwas_scores.head()"
   ]
  },
  {
   "cell_type": "code",
   "execution_count": 8,
   "metadata": {},
   "outputs": [
    {
     "data": {
      "text/html": [
       "<div>\n",
       "<style scoped>\n",
       "    .dataframe tbody tr th:only-of-type {\n",
       "        vertical-align: middle;\n",
       "    }\n",
       "\n",
       "    .dataframe tbody tr th {\n",
       "        vertical-align: top;\n",
       "    }\n",
       "\n",
       "    .dataframe thead th {\n",
       "        text-align: right;\n",
       "    }\n",
       "</style>\n",
       "<table border=\"1\" class=\"dataframe\">\n",
       "  <thead>\n",
       "    <tr style=\"text-align: right;\">\n",
       "      <th></th>\n",
       "      <th>index</th>\n",
       "      <th>Unnamed: 0</th>\n",
       "      <th>snp</th>\n",
       "      <th>chr</th>\n",
       "      <th>pos</th>\n",
       "      <th>p</th>\n",
       "    </tr>\n",
       "  </thead>\n",
       "  <tbody>\n",
       "    <tr>\n",
       "      <th>0</th>\n",
       "      <td>73583</td>\n",
       "      <td>73584</td>\n",
       "      <td>cfw-1-3207478</td>\n",
       "      <td>1</td>\n",
       "      <td>3207478</td>\n",
       "      <td>0.921913</td>\n",
       "    </tr>\n",
       "    <tr>\n",
       "      <th>1</th>\n",
       "      <td>40919</td>\n",
       "      <td>40920</td>\n",
       "      <td>cfw-1-4592184</td>\n",
       "      <td>1</td>\n",
       "      <td>4592184</td>\n",
       "      <td>0.496735</td>\n",
       "    </tr>\n",
       "    <tr>\n",
       "      <th>2</th>\n",
       "      <td>29303</td>\n",
       "      <td>29304</td>\n",
       "      <td>rs31954814</td>\n",
       "      <td>1</td>\n",
       "      <td>5151352</td>\n",
       "      <td>0.353184</td>\n",
       "    </tr>\n",
       "    <tr>\n",
       "      <th>3</th>\n",
       "      <td>44285</td>\n",
       "      <td>44286</td>\n",
       "      <td>rs31947195</td>\n",
       "      <td>1</td>\n",
       "      <td>5240999</td>\n",
       "      <td>0.540256</td>\n",
       "    </tr>\n",
       "    <tr>\n",
       "      <th>4</th>\n",
       "      <td>40335</td>\n",
       "      <td>40336</td>\n",
       "      <td>rs30660852</td>\n",
       "      <td>1</td>\n",
       "      <td>5241015</td>\n",
       "      <td>0.489395</td>\n",
       "    </tr>\n",
       "  </tbody>\n",
       "</table>\n",
       "</div>"
      ],
      "text/plain": [
       "   index  Unnamed: 0            snp  chr      pos         p\n",
       "0  73583       73584  cfw-1-3207478    1  3207478  0.921913\n",
       "1  40919       40920  cfw-1-4592184    1  4592184  0.496735\n",
       "2  29303       29304     rs31954814    1  5151352  0.353184\n",
       "3  44285       44286     rs31947195    1  5240999  0.540256\n",
       "4  40335       40336     rs30660852    1  5241015  0.489395"
      ]
     },
     "execution_count": 8,
     "metadata": {},
     "output_type": "execute_result"
    }
   ],
   "source": [
    "# Sort by position on the chromosome\n",
    "\n",
    "gwas_scores_sorted = gwas_scores.sort_values(by=['chr','pos']).reset_index()\n",
    "gwas_scores_sorted.head()"
   ]
  },
  {
   "cell_type": "code",
   "execution_count": 9,
   "metadata": {},
   "outputs": [],
   "source": [
    "# Group the SNPs into batches of 17 (saving room to use abBMD and SW16 as seeds)\n",
    "\n",
    "batches = {}\n",
    "batch_num = -1\n",
    "max_snps_per_batch = 17\n",
    "snp_cnt = 0\n",
    "last_chromo = -1\n",
    "batch_psum = {}\n",
    "\n",
    "for i in range(len(gwas_scores_sorted)):\n",
    "    pscore = gwas_scores_sorted.loc[i]['p']\n",
    "    chromo = gwas_scores_sorted.loc[i]['chr']\n",
    "    pos = gwas_scores_sorted.loc[i]['pos'] \n",
    "    if ((snp_cnt == max_snps_per_batch) or (chromo != last_chromo)):\n",
    "        batch_num += 1\n",
    "        batches[batch_num] = {}\n",
    "        batches[batch_num]['chr_pos'] = []\n",
    "        batches[batch_num]['pvalues'] = []\n",
    "        batch_psum[batch_num] = 0\n",
    "        snp_cnt = 0\n",
    "    batches[batch_num]['chr_pos'].append(str(chromo) + \"_\" + str(pos))\n",
    "    batches[batch_num]['pvalues'].append(pscore)\n",
    "    batch_psum[batch_num] += pscore\n",
    "    last_chromo = chromo\n",
    "    snp_cnt += 1\n",
    "    \n",
    "    \n",
    "    "
   ]
  },
  {
   "cell_type": "code",
   "execution_count": 10,
   "metadata": {},
   "outputs": [
    {
     "data": {
      "text/plain": [
       "(2996, 0.0004329560548238054)"
      ]
     },
     "execution_count": 10,
     "metadata": {},
     "output_type": "execute_result"
    }
   ],
   "source": [
    "min(batch_psum.items(), key=lambda k: k[1])"
   ]
  },
  {
   "cell_type": "code",
   "execution_count": 11,
   "metadata": {},
   "outputs": [
    {
     "data": {
      "text/plain": [
       "{'chr_pos': ['11_96682007',\n",
       "  '11_96682022',\n",
       "  '11_96682466',\n",
       "  '11_96691808',\n",
       "  '11_96717503',\n",
       "  '11_96737037',\n",
       "  '11_96737262',\n",
       "  '11_96740154',\n",
       "  '11_96740180',\n",
       "  '11_96772332',\n",
       "  '11_96772746',\n",
       "  '11_96776217',\n",
       "  '11_96816950',\n",
       "  '11_96816976',\n",
       "  '11_96816977',\n",
       "  '11_96817194',\n",
       "  '11_96820433'],\n",
       " 'pvalues': [7.79099743016085e-10,\n",
       "  5.59364680710276e-12,\n",
       "  2.60293101335005e-10,\n",
       "  2.51531187395961e-13,\n",
       "  2.08605025783302e-12,\n",
       "  3.01468028552801e-11,\n",
       "  2.59793199141993e-13,\n",
       "  1.65307194168037e-06,\n",
       "  1.0197029621742702e-06,\n",
       "  1.7836455671521602e-11,\n",
       "  9.627958903863468e-10,\n",
       "  8.719371386295509e-11,\n",
       "  3.15362730226529e-13,\n",
       "  3.12170156699098e-13,\n",
       "  3.1804086347162795e-13,\n",
       "  3.26757383049382e-13,\n",
       "  0.00043028113309089103]}"
      ]
     },
     "execution_count": 11,
     "metadata": {},
     "output_type": "execute_result"
    }
   ],
   "source": [
    "batches[2996]"
   ]
  },
  {
   "cell_type": "code",
   "execution_count": null,
   "metadata": {},
   "outputs": [],
   "source": []
  }
 ],
 "metadata": {
  "kernelspec": {
   "display_name": "Python 3",
   "language": "python",
   "name": "python3"
  },
  "language_info": {
   "codemirror_mode": {
    "name": "ipython",
    "version": 3
   },
   "file_extension": ".py",
   "mimetype": "text/x-python",
   "name": "python",
   "nbconvert_exporter": "python",
   "pygments_lexer": "ipython3",
   "version": "3.7.5"
  }
 },
 "nbformat": 4,
 "nbformat_minor": 4
}
