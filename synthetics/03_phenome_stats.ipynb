{
 "cells": [
  {
   "cell_type": "markdown",
   "metadata": {},
   "source": [
    "# Calculate statistics for phenome and SNPs"
   ]
  },
  {
   "cell_type": "code",
   "execution_count": 1,
   "metadata": {},
   "outputs": [],
   "source": [
    "import os\n",
    "import pathlib\n",
    "import pandas as pd\n",
    "\n",
    "base_path = pathlib.Path(os.getcwd().replace(\"/synthetics\", \"\"))\n",
    "experiment_path = base_path / 'mice_data_set' / 'out' "
   ]
  },
  {
   "cell_type": "code",
   "execution_count": 2,
   "metadata": {},
   "outputs": [
    {
     "name": "stdout",
     "output_type": "stream",
     "text": [
      "Found 68 phenotypes.\n",
      "Examples: AvAltContextD3, AvContextD2, AvToneD1, AvToneD3, BMD, D1TOTDIST10, D1TOTDIST15, D1TOTDIST20, D1TOTDIST25, D1TOTDIST30...\n"
     ]
    }
   ],
   "source": [
    "# Enumerate phenotypes from experiment\n",
    "\n",
    "phenotype_list = sorted([x.stem.replace('pheno_', '') for x in experiment_path.glob('pheno_*.csv')])\n",
    "\n",
    "print(f\"Found {len(phenotype_list)} phenotypes.\")\n",
    "print(f\"Examples: {', '.join(phenotype_list[:10])}...\")\n"
   ]
  },
  {
   "cell_type": "code",
   "execution_count": 3,
   "metadata": {},
   "outputs": [
    {
     "name": "stdout",
     "output_type": "stream",
     "text": [
      "D1TOTDIST10:1\n",
      "D1ctrtime0to30:5\n",
      "D2TOTDIST25:1\n",
      "abBMD:467\n",
      "soleus:1\n",
      "testisweight:123\n",
      "tibia:7\n"
     ]
    }
   ],
   "source": [
    "from collections import defaultdict\n",
    "\n",
    "def find_phenotype_associations(phenotype_list: list, path: pathlib.Path) -> list:\n",
    "    \"\"\" Using GEMMA and LM results, determine which phenotypes have snp \n",
    "        associations greater than the threshold of 10e-8\n",
    "    \"\"\"\n",
    "    matches = defaultdict(list)\n",
    "\n",
    "    for phenotype in phenotype_list:\n",
    "        \n",
    "        # Test for LM associations\n",
    "        lm_path = experiment_path / f\"lm_{phenotype}_1_79646.csv\"\n",
    "        for index, row in pd.read_csv(lm_path).iterrows():\n",
    "            if row['p'] < 1e-7:\n",
    "                matches[phenotype].append(row['snp'])\n",
    "            else:\n",
    "                break\n",
    "\n",
    "        # Test for GEMMA associations\n",
    "        gemma_path = experiment_path / f\"ge_{phenotype}_1_79646.csv\"\n",
    "        for index, row in pd.read_csv(gemma_path).iterrows():\n",
    "            if row['log10p'] >= 8:\n",
    "                matches[phenotype].append(row['snp'])\n",
    "            else:\n",
    "                break\n",
    "                \n",
    "    return matches\n",
    "        \n",
    "phenotype_snps = find_phenotype_associations(phenotype_list, experiment_path)\n",
    "\n",
    "for key, value in phenotype_snps.items():\n",
    "    print(f\"{key}:{len(value)}\")"
   ]
  },
  {
   "cell_type": "code",
   "execution_count": 4,
   "metadata": {},
   "outputs": [
    {
     "name": "stdout",
     "output_type": "stream",
     "text": [
      "Phenotype D1TOTDIST10 has associations with 1 SNPs\n",
      "Phenotype D1ctrtime0to30 has associations with 5 SNPs\n",
      "Phenotype D2TOTDIST25 has associations with 1 SNPs\n",
      "Phenotype abBMD has associations with 261 SNPs\n",
      "Phenotype soleus has associations with 1 SNPs\n",
      "Phenotype testisweight has associations with 78 SNPs\n",
      "Phenotype tibia has associations with 7 SNPs\n"
     ]
    }
   ],
   "source": [
    "def count_phenotype_snps(phenotype_list: list, phenotype_snps: defaultdict) -> dict:\n",
    "    snp_counts = {}\n",
    "    for phenotype1 in phenotype_list:\n",
    "        set1 = set(phenotype_snps[phenotype1])\n",
    "        for phenotype2 in phenotype_list:\n",
    "            set2 = set(phenotype_snps[phenotype2])\n",
    "\n",
    "            overlap = set1.intersection(set2)\n",
    "            if len(overlap) > 0:\n",
    "                snp_counts[phenotype1] = len(overlap)\n",
    "                print(f\"Phenotype {phenotype1} has associations with {len(overlap)} SNPs\")\n",
    "    \n",
    "    return snp_counts\n",
    "\n",
    "snp_counts = count_phenotype_snps(phenotype_list, phenotype_snps)"
   ]
  },
  {
   "cell_type": "code",
   "execution_count": 17,
   "metadata": {},
   "outputs": [
    {
     "name": "stdout",
     "output_type": "stream",
     "text": [
      "abBMD has 206 associated SNPs\n",
      "testisweight has 46 associated SNPs\n"
     ]
    }
   ],
   "source": [
    "# For the pheno's that passed the above test, gather all the snps for each that have\n",
    "# assosications greater than the threshold of 10e-8\n",
    "\n",
    "matches = defaultdict(list)\n",
    "for phenotype in snp_counts.keys():\n",
    "    \n",
    "    df = pd.read_csv(experiment_path / f'ge_{phenotype}_1_79646.csv')\n",
    "    for index, row in df.iterrows():\n",
    "        if row['log10p'] >= 8:\n",
    "            matches[phenotype].append(row['snp'])\n",
    "        else:\n",
    "            break\n",
    "\n",
    "for key, value in matches.items():\n",
    "    print(f\"{key} has {len(value)} associated SNPs\")"
   ]
  },
  {
   "cell_type": "code",
   "execution_count": null,
   "metadata": {},
   "outputs": [],
   "source": [
    "# TODO: For each associated SNP, get the pearson's correlation values\n",
    "# Possible bug: Need to make sure map.ipynb X_ genotypes are being generated correctly."
   ]
  }
 ],
 "metadata": {
  "kernelspec": {
   "display_name": "Python 3",
   "language": "python",
   "name": "python3"
  },
  "language_info": {
   "codemirror_mode": {
    "name": "ipython",
    "version": 3
   },
   "file_extension": ".py",
   "mimetype": "text/x-python",
   "name": "python",
   "nbconvert_exporter": "python",
   "pygments_lexer": "ipython3",
   "version": "3.8.3"
  }
 },
 "nbformat": 4,
 "nbformat_minor": 4
}
